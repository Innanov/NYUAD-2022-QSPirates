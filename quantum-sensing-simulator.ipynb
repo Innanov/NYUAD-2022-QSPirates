{
 "cells": [
  {
   "cell_type": "code",
   "execution_count": 19,
   "id": "9a0100d4-78a9-4bd1-993b-8eae56ed188d",
   "metadata": {},
   "outputs": [
    {
     "name": "stdout",
     "output_type": "stream",
     "text": [
      "T  : |   0    |      1      |   2    |      3      |   4    |\n",
      "                                                             \n",
      "q0 : -Ry(1.57)-C-------------Ry(1.57)-C-------------Ry(1.57)-\n",
      "               |                      |                      \n",
      "q1 : -Ry(1.57)-PHASE10(3.14)-Ry(1.57)-PHASE00(3.14)-Ry(1.57)-\n",
      "\n",
      "T  : |   0    |      1      |   2    |      3      |   4    |\n",
      "T  : |   0    |      1      |   2    |\n",
      "                                      \n",
      "q0 : ----------C-------------Ry(1.57)-\n",
      "               |                      \n",
      "q1 : -Ry(1.57)-PHASE00(3.14)-Ry(1.57)-\n",
      "\n",
      "T  : |   0    |      1      |   2    |\n",
      "Counter({'10': 1000})\n",
      "Counter({'10': 517, '00': 483})\n"
     ]
    }
   ],
   "source": [
    "import boto3\n",
    "from braket.aws import AwsDevice\n",
    "from braket.devices import LocalSimulator\n",
    "from braket.circuits import Circuit\n",
    "import math\n",
    "\n",
    "# create the circuit\n",
    "bell = Circuit().ry(0, math.pi/2).ry(1, math.pi/2).cphaseshift10(0,1,math.pi).ry(0,math.pi/2)\n",
    "#bell=Circuit().h(0).cnot(0,1).cnot(0,2).cnot(0,3)\n",
    "bell2 = Circuit().ry(1, math.pi/2).cphaseshift00(0,1,math.pi).ry(0,math.pi/2).ry(1, math.pi/2)\n",
    "bell.add_circuit(bell2)\n",
    "print(bell)\n",
    "print(bell2)\n",
    "\n",
    "# instantiate the local simulator\n",
    "local_sim = LocalSimulator()\n",
    "\n",
    "# run the circuit\n",
    "result = local_sim.run(bell, shots=1000).result()\n",
    "counts = result.measurement_counts\n",
    "print(counts)\n",
    "result = local_sim.run(bell2, shots=1000).result()\n",
    "counts = result.measurement_counts\n",
    "print(counts)"
   ]
  },
  {
   "cell_type": "code",
   "execution_count": null,
   "id": "c1d68c59-3551-4ae3-a6b6-cfcc7a78d88b",
   "metadata": {},
   "outputs": [],
   "source": []
  },
  {
   "cell_type": "code",
   "execution_count": null,
   "id": "75a49b16-51c3-43c0-8983-abae04677bbe",
   "metadata": {},
   "outputs": [],
   "source": []
  }
 ],
 "metadata": {
  "kernelspec": {
   "display_name": "Python 3 [Braket]",
   "language": "python",
   "name": "python3_aws_braket_kwx6dl"
  },
  "language_info": {
   "codemirror_mode": {
    "name": "ipython",
    "version": 3
   },
   "file_extension": ".py",
   "mimetype": "text/x-python",
   "name": "python",
   "nbconvert_exporter": "python",
   "pygments_lexer": "ipython3",
   "version": "3.9.7"
  }
 },
 "nbformat": 4,
 "nbformat_minor": 5
}
