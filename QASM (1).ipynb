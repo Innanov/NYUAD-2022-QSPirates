{
 "cells": [
  {
   "cell_type": "code",
   "execution_count": 15,
   "id": "2c5b2fde-0b62-4032-8b5e-928b5d28066c",
   "metadata": {},
   "outputs": [
    {
     "name": "stderr",
     "output_type": "stream",
     "text": [
      "ibmqfactory.load_account:WARNING:2022-03-31 13:04:06,083: Credentials are already in use. The existing account in the session will be replaced.\n"
     ]
    }
   ],
   "source": [
    "import numpy as np\n",
    "\n",
    "# Importing standard Qiskit libraries\n",
    "from qiskit import QuantumCircuit, transpile, Aer, IBMQ, execute, extensions\n",
    "from qiskit.visualization import *\n",
    "from ibm_quantum_widgets import *\n",
    "from qiskit.providers.aer import QasmSimulator\n",
    "\n",
    "# Loading your IBM Quantum account(s)\n",
    "provider = IBMQ.load_account()"
   ]
  },
  {
   "cell_type": "markdown",
   "id": "ed7ad2bc-cba9-40fa-8411-8e0c93a2c9fc",
   "metadata": {},
   "source": [
    "Hamiltonian describes the situation in a physical system. For the sensing application we choose a Hamiltonian, $H= \\sigma_{z}$. We will do the time evolution of our hamiltonian for pi/3 time."
   ]
  },
  {
   "cell_type": "code",
   "execution_count": 16,
   "id": "3945d199-4a08-42f7-96f6-12bce8ec2ed2",
   "metadata": {},
   "outputs": [
    {
     "name": "stdout",
     "output_type": "stream",
     "text": [
      "Operator([[ 1.+0.j,  0.+0.j,  0.+0.j,  0.+0.j],\n",
      "          [-0.+0.j, -1.+0.j, -0.+0.j, -0.+0.j],\n",
      "          [-0.+0.j, -0.+0.j, -1.+0.j, -0.+0.j],\n",
      "          [ 0.-0.j,  0.-0.j,  0.-0.j,  1.-0.j]],\n",
      "         input_dims=(2, 2), output_dims=(2, 2))\n"
     ]
    }
   ],
   "source": [
    "circ = QuantumCircuit(2,2)\n",
    "def matrix(qc):\n",
    "    backend = Aer.get_backend('unitary_simulator')\n",
    "    job =  execute(qc, backend)\n",
    "    result = job.result()\n",
    "    return result\n",
    "circ.z(0)\n",
    "circ.z(1)\n",
    "mat = matrix(circ).get_unitary(circ, decimals= 3)\n",
    "print(mat)\n"
   ]
  },
  {
   "cell_type": "markdown",
   "id": "ca517598-9d93-4d3d-9c64-620ffcfbf992",
   "metadata": {},
   "source": [
    "Following cell wokr "
   ]
  },
  {
   "cell_type": "code",
   "execution_count": 42,
   "id": "14140fa9-e2ad-4b60-82a5-72db45d30747",
   "metadata": {},
   "outputs": [
    {
     "name": "stdout",
     "output_type": "stream",
     "text": [
      "Instruction(name='hamiltonian', num_qubits=2, num_clbits=0, params=[array([[ 1.+0.j,  0.+0.j,  0.+0.j,  0.+0.j],\n",
      "       [-0.+0.j, -1.+0.j, -0.+0.j, -0.+0.j],\n",
      "       [-0.+0.j, -0.+0.j, -1.+0.j, -0.+0.j],\n",
      "       [ 0.-0.j,  0.-0.j,  0.-0.j,  1.-0.j]]), 1.0471975511965976])\n"
     ]
    },
    {
     "data": {
      "image/png": "[encoded data removed]",
      "text/plain": [
       "<Figure size 267.052x204.68 with 1 Axes>"
      ]
     },
     "metadata": {},
     "output_type": "display_data"
    },
    {
     "data": {
      "image/png": "[encoded data removed]",
      "text/plain": [
       "<Figure size 568.052x204.68 with 1 Axes>"
      ]
     },
     "metadata": {},
     "output_type": "display_data"
    }
   ],
   "source": [
    "def hamilton(operator, time):\n",
    "    gate = extensions.HamiltonianGate(operator, time)\n",
    "    return gate\n",
    "\n",
    "evolution = hamilton(mat, np.pi/3)\n",
    "print(evolution)\n",
    "#ham_gate = QuantumCircuit(2)\n",
    "#ham_gate.unitary(evolution, [0,1])\n",
    "circuit = QuantumCircuit(2,2)\n",
    "circuit.append(evolution, [0, 1])\n",
    "display(circuit.draw())\n",
    "\n",
    "tran_ham = transpile(circuit, basis_gates=['cx','u3'])\n",
    "display(tran_ham.draw())\n"
   ]
  },
  {
   "cell_type": "code",
   "execution_count": 47,
   "id": "38f48f42-0de4-468c-8c5c-1c2ccf9a1d46",
   "metadata": {},
   "outputs": [
    {
     "data": {
      "image/png": "[encoded data removed]",
      "text/plain": [
       "<Figure size 447.652x204.68 with 1 Axes>"
      ]
     },
     "metadata": {},
     "output_type": "display_data"
    },
    {
     "name": "stdout",
     "output_type": "stream",
     "text": [
      "Traceback \u001b[1;36m(most recent call last)\u001b[0m:\n",
      "  Input \u001b[0;32mIn [47]\u001b[0m in \u001b[0;35m<cell line: 10>\u001b[0m\n",
      "    job = execute(bell, backend, shots = 1024)\n",
      "  File \u001b[0;32m/opt/conda/lib/python3.8/site-packages/qiskit/execute_function.py:294\u001b[0m in \u001b[0;35mexecute\u001b[0m\n",
      "    experiments = transpile(\n",
      "  File \u001b[0;32m/opt/conda/lib/python3.8/site-packages/qiskit/compiler/transpiler.py:335\u001b[0m in \u001b[0;35mtranspile\u001b[0m\n",
      "    circuits = parallel_map(_transpile_circuit, list(zip(circuits, transpile_args)))\n",
      "  File \u001b[0;32m/opt/conda/lib/python3.8/site-packages/qiskit/tools/parallel.py:132\u001b[0m in \u001b[0;35mparallel_map\u001b[0m\n",
      "    return [task(values[0], *task_args, **task_kwargs)]\n",
      "  File \u001b[0;32m/opt/conda/lib/python3.8/site-packages/qiskit/compiler/transpiler.py:429\u001b[0m in \u001b[0;35m_transpile_circuit\u001b[0m\n",
      "    result = pass_manager.run(\n",
      "  File \u001b[0;32m/opt/conda/lib/python3.8/site-packages/qiskit/transpiler/passmanager.py:218\u001b[0m in \u001b[0;35mrun\u001b[0m\n",
      "    return self._run_single_circuit(circuits, output_name, callback)\n",
      "  File \u001b[0;32m/opt/conda/lib/python3.8/site-packages/qiskit/transpiler/passmanager.py:273\u001b[0m in \u001b[0;35m_run_single_circuit\u001b[0m\n",
      "    result = running_passmanager.run(circuit, output_name=output_name, callback=callback)\n",
      "  File \u001b[0;32m/opt/conda/lib/python3.8/site-packages/qiskit/transpiler/runningpassmanager.py:123\u001b[0m in \u001b[0;35mrun\u001b[0m\n",
      "    dag = self._do_pass(pass_, dag, passset.options)\n",
      "  File \u001b[0;32m/opt/conda/lib/python3.8/site-packages/qiskit/transpiler/runningpassmanager.py:154\u001b[0m in \u001b[0;35m_do_pass\u001b[0m\n",
      "    dag = self._run_this_pass(pass_, dag)\n",
      "  File \u001b[0;32m/opt/conda/lib/python3.8/site-packages/qiskit/transpiler/runningpassmanager.py:166\u001b[0m in \u001b[0;35m_run_this_pass\u001b[0m\n",
      "    new_dag = pass_.run(dag)\n",
      "  File \u001b[0;32m/opt/conda/lib/python3.8/site-packages/qiskit/transpiler/passes/basis/unroll_custom_definitions.py:95\u001b[0m in \u001b[0;35mrun\u001b[0m\n",
      "    dag.substitute_node_with_dag(node, unrolled_dag)\n",
      "  File \u001b[0;32m/opt/conda/lib/python3.8/site-packages/qiskit/dagcircuit/dagcircuit.py:1151\u001b[0m in \u001b[0;35msubstitute_node_with_dag\u001b[0m\n",
      "    self._check_wires_list(wires, node)\n",
      "\u001b[1;36m  File \u001b[1;32m/opt/conda/lib/python3.8/site-packages/qiskit/dagcircuit/dagcircuit.py:942\u001b[1;36m in \u001b[1;35m_check_wires_list\u001b[1;36m\u001b[0m\n",
      "\u001b[1;33m    raise DAGCircuitError(\"expected %d wires, got %d\" % (wire_tot, len(wires)))\u001b[0m\n",
      "\u001b[1;31mDAGCircuitError\u001b[0m\u001b[1;31m:\u001b[0m expected 2 wires, got 4\n",
      "\n",
      "Use %tb to get the full traceback.\n"
     ]
    },
    {
     "data": {
      "text/html": [
       "\n",
       "<style>\n",
       ".button {\n",
       "  border: none;\n",
       "  color: white;\n",
       "  padding: 4px 8px;\n",
       "  text-align: center;\n",
       "  text-decoration: none;\n",
       "  display: inline-block;\n",
       "  font-size: 12px;\n",
       "  margin: 4px 2px;\n",
       "  transition-duration: 0.2s;\n",
       "  cursor: pointer;\n",
       "}\n",
       ".iqx-button {\n",
       "  background-color: #0f62fe; \n",
       "  color: white; \n",
       "}\n",
       ".iqx-button:hover {\n",
       "  background-color: #0043ce;\n",
       "  color: white;\n",
       "}\n",
       "</style>\n",
       "<a href=\"https://stackoverflow.com/search?q=DAGCircuitError: expected 2 wires, got 4\" target='_blank'><button class='button iqx-button'>Search for solution online</button></a>\n"
      ],
      "text/plain": [
       "<IPython.core.display.HTML object>"
      ]
     },
     "metadata": {},
     "output_type": "display_data"
    }
   ],
   "source": [
    "bell= QuantumCircuit(2,2)\n",
    "bell.h(0)\n",
    "bell.cx(0,1)\n",
    "bell.append(tran_ham, [0,1])\n",
    "bell.cx(0,1)\n",
    "bell.h(0)\n",
    "display(bell.draw())\n",
    "bell.measure_all()\n",
    "backend = Aer.get_backend('qasm_simulator')\n",
    "job = execute(bell, backend, shots = 1024)\n",
    "result_sim = job_sim.result()\n",
    "counts = result_sim.get_counts(bell)\n",
    "print(counts)\n",
    "from qiskit.visualization import plot_histogram\n",
    "plot_histogram(counts)\n"
   ]
  },
  {
   "cell_type": "code",
   "execution_count": null,
   "id": "3ca70811-b611-46f0-a8a9-bce9b13f887a",
   "metadata": {},
   "outputs": [],
   "source": []
  }
 ],
 "metadata": {
  "kernelspec": {
   "display_name": "Qiskit v0.34.2 (ipykernel)",
   "language": "python",
   "name": "python3"
  },
  "language_info": {
   "codemirror_mode": {
    "name": "ipython",
    "version": 3
   },
   "file_extension": ".py",
   "mimetype": "text/x-python",
   "name": "python",
   "nbconvert_exporter": "python",
   "pygments_lexer": "ipython3",
   "version": "3.8.12"
  },
  "widgets": {
   "application/vnd.jupyter.widget-state+json": {
    "state": {},
    "version_major": 2,
    "version_minor": 0
   }
  }
 },
 "nbformat": 4,
 "nbformat_minor": 5
}
