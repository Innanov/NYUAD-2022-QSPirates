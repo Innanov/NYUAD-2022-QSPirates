{
 "cells": [
  {
   "cell_type": "code",
   "execution_count": 2,
   "id": "2c5b2fde-0b62-4032-8b5e-928b5d28066c",
   "metadata": {},
   "outputs": [],
   "source": [
    "import numpy as np\n",
    "\n",
    "# Importing standard Qiskit libraries\n",
    "from qiskit import QuantumCircuit, transpile, Aer, IBMQ, execute, extensions\n",
    "from qiskit.visualization import *\n",
    "from ibm_quantum_widgets import *\n",
    "from qiskit.providers.aer import QasmSimulator\n",
    "\n",
    "# Loading your IBM Quantum account(s)\n",
    "# provider = IBMQ.load_account()"
   ]
  },
  {
   "cell_type": "markdown",
   "id": "ed7ad2bc-cba9-40fa-8411-8e0c93a2c9fc",
   "metadata": {},
   "source": [
    "Hamiltonian describes the situation in a physical system. For the sensing application we choose a Hamiltonian, $H= \\sigma_{z}$. We will do the time evolution of our hamiltonian for pi/3 time."
   ]
  },
  {
   "cell_type": "code",
   "execution_count": 3,
   "id": "3945d199-4a08-42f7-96f6-12bce8ec2ed2",
   "metadata": {},
   "outputs": [
    {
     "name": "stdout",
     "output_type": "stream",
     "text": [
      "Operator([[ 1.+0.j,  0.+0.j,  0.+0.j,  0.+0.j],\n",
      "          [-0.+0.j, -1.+0.j, -0.+0.j, -0.+0.j],\n",
      "          [-0.+0.j, -0.+0.j, -1.+0.j, -0.+0.j],\n",
      "          [ 0.-0.j,  0.-0.j,  0.-0.j,  1.-0.j]],\n",
      "         input_dims=(2, 2), output_dims=(2, 2))\n"
     ]
    }
   ],
   "source": [
    "circ = QuantumCircuit(2,2)\n",
    "def matrix(qc):\n",
    "    backend = Aer.get_backend('unitary_simulator')\n",
    "    job =  execute(qc, backend)\n",
    "    result = job.result()\n",
    "    return result\n",
    "circ.z(0)\n",
    "circ.z(1)\n",
    "mat = matrix(circ).get_unitary(circ, decimals= 3)\n",
    "print(mat)\n"
   ]
  },
  {
   "cell_type": "markdown",
   "id": "ca517598-9d93-4d3d-9c64-620ffcfbf992",
   "metadata": {},
   "source": [
    "Following cell wokr "
   ]
  },
  {
   "cell_type": "code",
   "execution_count": 4,
   "id": "14140fa9-e2ad-4b60-82a5-72db45d30747",
   "metadata": {},
   "outputs": [
    {
     "name": "stdout",
     "output_type": "stream",
     "text": [
      "Instruction(name='hamiltonian', num_qubits=2, num_clbits=0, params=[array([[ 1.+0.j,  0.+0.j,  0.+0.j,  0.+0.j],\n",
      "       [-0.+0.j, -1.+0.j, -0.+0.j, -0.+0.j],\n",
      "       [-0.+0.j, -0.+0.j, -1.+0.j, -0.+0.j],\n",
      "       [ 0.-0.j,  0.-0.j,  0.-0.j,  1.-0.j]]), 1.0471975511965976])\n"
     ]
    },
    {
     "data": {
      "text/html": [
       "<pre style=\"word-wrap: normal;white-space: pre;background: #fff0;line-height: 1.1;font-family: &quot;Courier New&quot;,Courier,monospace\">     ┌──────────────┐\n",
       "q_0: ┤0             ├\n",
       "     │  Hamiltonian │\n",
       "q_1: ┤1             ├\n",
       "     └──────────────┘\n",
       "c: 2/════════════════\n",
       "                     </pre>"
      ],
      "text/plain": [
       "     ┌──────────────┐\n",
       "q_0: ┤0             ├\n",
       "     │  Hamiltonian │\n",
       "q_1: ┤1             ├\n",
       "     └──────────────┘\n",
       "c: 2/════════════════\n",
       "                     "
      ]
     },
     "metadata": {},
     "output_type": "display_data"
    },
    {
     "data": {
      "text/html": [
       "<pre style=\"word-wrap: normal;white-space: pre;background: #fff0;line-height: 1.1;font-family: &quot;Courier New&quot;,Courier,monospace\">global phase: 5.7818\n",
       "         ┌──────────────┐              ┌───────────────┐           »\n",
       "q_0: ────┤ U3(0,-π,π/2) ├──────■───────┤ U3(π,-π,-π/2) ├────────■──»\n",
       "     ┌───┴──────────────┴───┐┌─┴─┐┌────┴───────────────┴─────┐┌─┴─┐»\n",
       "q_1: ┤ U3(0.067571,-π/2,-π) ├┤ X ├┤ U3(1.5371,1.5123,-2.615) ├┤ X ├»\n",
       "     └──────────────────────┘└───┘└──────────────────────────┘└───┘»\n",
       "c: 2/══════════════════════════════════════════════════════════════»\n",
       "                                                                   »\n",
       "«     ┌──────────────────────┐\n",
       "«q_0: ┤ U3(π,1.0528,-2.0888) ├\n",
       "«     └┬────────────────────┬┘\n",
       "«q_1: ─┤ U3(1.6384,-π,-π/2) ├─\n",
       "«      └────────────────────┘ \n",
       "«c: 2/════════════════════════\n",
       "«                             </pre>"
      ],
      "text/plain": [
       "global phase: 5.7818\n",
       "         ┌──────────────┐              ┌───────────────┐           »\n",
       "q_0: ────┤ U3(0,-π,π/2) ├──────■───────┤ U3(π,-π,-π/2) ├────────■──»\n",
       "     ┌───┴──────────────┴───┐┌─┴─┐┌────┴───────────────┴─────┐┌─┴─┐»\n",
       "q_1: ┤ U3(0.067571,-π/2,-π) ├┤ X ├┤ U3(1.5371,1.5123,-2.615) ├┤ X ├»\n",
       "     └──────────────────────┘└───┘└──────────────────────────┘└───┘»\n",
       "c: 2/══════════════════════════════════════════════════════════════»\n",
       "                                                                   »\n",
       "«     ┌──────────────────────┐\n",
       "«q_0: ┤ U3(π,1.0528,-2.0888) ├\n",
       "«     └┬────────────────────┬┘\n",
       "«q_1: ─┤ U3(1.6384,-π,-π/2) ├─\n",
       "«      └────────────────────┘ \n",
       "«c: 2/════════════════════════\n",
       "«                             "
      ]
     },
     "metadata": {},
     "output_type": "display_data"
    }
   ],
   "source": [
    "def hamilton(operator, time):\n",
    "    gate = extensions.HamiltonianGate(operator, time)\n",
    "    return gate\n",
    "\n",
    "evolution = hamilton(mat, np.pi/3)\n",
    "print(evolution)\n",
    "#ham_gate = QuantumCircuit(2)\n",
    "#ham_gate.unitary(evolution, [0,1])\n",
    "circuit = QuantumCircuit(2,2)\n",
    "circuit.append(evolution, [0, 1])\n",
    "display(circuit.draw())\n",
    "\n",
    "tran_ham = transpile(circuit, basis_gates=['cx','u3'])\n",
    "display(tran_ham.draw())\n"
   ]
  },
  {
   "cell_type": "code",
   "execution_count": 5,
   "id": "38f48f42-0de4-468c-8c5c-1c2ccf9a1d46",
   "metadata": {},
   "outputs": [
    {
     "data": {
      "text/html": [
       "<pre style=\"word-wrap: normal;white-space: pre;background: #fff0;line-height: 1.1;font-family: &quot;Courier New&quot;,Courier,monospace\">     ┌───┐     ┌──────────────┐     ┌───┐\n",
       "q_0: ┤ H ├──■──┤0             ├──■──┤ H ├\n",
       "     └───┘┌─┴─┐│  circuit-142 │┌─┴─┐└───┘\n",
       "q_1: ─────┤ X ├┤1             ├┤ X ├─────\n",
       "          └───┘└──────────────┘└───┘     \n",
       "c: 2/════════════════════════════════════\n",
       "                                         </pre>"
      ],
      "text/plain": [
       "     ┌───┐     ┌──────────────┐     ┌───┐\n",
       "q_0: ┤ H ├──■──┤0             ├──■──┤ H ├\n",
       "     └───┘┌─┴─┐│  circuit-142 │┌─┴─┐└───┘\n",
       "q_1: ─────┤ X ├┤1             ├┤ X ├─────\n",
       "          └───┘└──────────────┘└───┘     \n",
       "c: 2/════════════════════════════════════\n",
       "                                         "
      ]
     },
     "metadata": {},
     "output_type": "display_data"
    },
    {
     "ename": "DAGCircuitError",
     "evalue": "'expected 2 wires, got 4'",
     "output_type": "error",
     "traceback": [
      "\u001b[1;31m---------------------------------------------------------------------------\u001b[0m",
      "\u001b[1;31mDAGCircuitError\u001b[0m                           Traceback (most recent call last)",
      "\u001b[1;32mc:\\Users\\Phill\\source\\repos\\NYUAD-2022-QSPirates\\QASM (1).ipynb Cell 6'\u001b[0m in \u001b[0;36m<cell line: 10>\u001b[1;34m()\u001b[0m\n\u001b[0;32m      <a href='vscode-notebook-cell:/c%3A/Users/Phill/source/repos/NYUAD-2022-QSPirates/QASM%20%281%29.ipynb#ch0000005?line=7'>8</a>\u001b[0m bell\u001b[39m.\u001b[39mmeasure_all()\n\u001b[0;32m      <a href='vscode-notebook-cell:/c%3A/Users/Phill/source/repos/NYUAD-2022-QSPirates/QASM%20%281%29.ipynb#ch0000005?line=8'>9</a>\u001b[0m backend \u001b[39m=\u001b[39m Aer\u001b[39m.\u001b[39mget_backend(\u001b[39m'\u001b[39m\u001b[39mqasm_simulator\u001b[39m\u001b[39m'\u001b[39m)\n\u001b[1;32m---> <a href='vscode-notebook-cell:/c%3A/Users/Phill/source/repos/NYUAD-2022-QSPirates/QASM%20%281%29.ipynb#ch0000005?line=9'>10</a>\u001b[0m job \u001b[39m=\u001b[39m execute(bell, backend, shots \u001b[39m=\u001b[39;49m \u001b[39m1024\u001b[39;49m)\n\u001b[0;32m     <a href='vscode-notebook-cell:/c%3A/Users/Phill/source/repos/NYUAD-2022-QSPirates/QASM%20%281%29.ipynb#ch0000005?line=10'>11</a>\u001b[0m result_sim \u001b[39m=\u001b[39m job_sim\u001b[39m.\u001b[39mresult()\n\u001b[0;32m     <a href='vscode-notebook-cell:/c%3A/Users/Phill/source/repos/NYUAD-2022-QSPirates/QASM%20%281%29.ipynb#ch0000005?line=11'>12</a>\u001b[0m counts \u001b[39m=\u001b[39m result_sim\u001b[39m.\u001b[39mget_counts(bell)\n",
      "File \u001b[1;32mD:\\Firmware\\Miniconda\\envs\\quantum\\lib\\site-packages\\qiskit\\execute_function.py:294\u001b[0m, in \u001b[0;36mexecute\u001b[1;34m(experiments, backend, basis_gates, coupling_map, backend_properties, initial_layout, seed_transpiler, optimization_level, pass_manager, qobj_id, qobj_header, shots, memory, max_credits, seed_simulator, default_qubit_los, default_meas_los, qubit_lo_range, meas_lo_range, schedule_los, meas_level, meas_return, memory_slots, memory_slot_size, rep_time, rep_delay, parameter_binds, schedule_circuit, inst_map, meas_map, scheduling_method, init_qubits, **run_config)\u001b[0m\n\u001b[0;32m    <a href='file:///d%3A/Firmware/Miniconda/envs/quantum/lib/site-packages/qiskit/execute_function.py?line=290'>291</a>\u001b[0m     experiments \u001b[39m=\u001b[39m pass_manager\u001b[39m.\u001b[39mrun(experiments)\n\u001b[0;32m    <a href='file:///d%3A/Firmware/Miniconda/envs/quantum/lib/site-packages/qiskit/execute_function.py?line=291'>292</a>\u001b[0m \u001b[39melse\u001b[39;00m:\n\u001b[0;32m    <a href='file:///d%3A/Firmware/Miniconda/envs/quantum/lib/site-packages/qiskit/execute_function.py?line=292'>293</a>\u001b[0m     \u001b[39m# transpiling the circuits using given transpile options\u001b[39;00m\n\u001b[1;32m--> <a href='file:///d%3A/Firmware/Miniconda/envs/quantum/lib/site-packages/qiskit/execute_function.py?line=293'>294</a>\u001b[0m     experiments \u001b[39m=\u001b[39m transpile(\n\u001b[0;32m    <a href='file:///d%3A/Firmware/Miniconda/envs/quantum/lib/site-packages/qiskit/execute_function.py?line=294'>295</a>\u001b[0m         experiments,\n\u001b[0;32m    <a href='file:///d%3A/Firmware/Miniconda/envs/quantum/lib/site-packages/qiskit/execute_function.py?line=295'>296</a>\u001b[0m         basis_gates\u001b[39m=\u001b[39;49mbasis_gates,\n\u001b[0;32m    <a href='file:///d%3A/Firmware/Miniconda/envs/quantum/lib/site-packages/qiskit/execute_function.py?line=296'>297</a>\u001b[0m         coupling_map\u001b[39m=\u001b[39;49mcoupling_map,\n\u001b[0;32m    <a href='file:///d%3A/Firmware/Miniconda/envs/quantum/lib/site-packages/qiskit/execute_function.py?line=297'>298</a>\u001b[0m         backend_properties\u001b[39m=\u001b[39;49mbackend_properties,\n\u001b[0;32m    <a href='file:///d%3A/Firmware/Miniconda/envs/quantum/lib/site-packages/qiskit/execute_function.py?line=298'>299</a>\u001b[0m         initial_layout\u001b[39m=\u001b[39;49minitial_layout,\n\u001b[0;32m    <a href='file:///d%3A/Firmware/Miniconda/envs/quantum/lib/site-packages/qiskit/execute_function.py?line=299'>300</a>\u001b[0m         seed_transpiler\u001b[39m=\u001b[39;49mseed_transpiler,\n\u001b[0;32m    <a href='file:///d%3A/Firmware/Miniconda/envs/quantum/lib/site-packages/qiskit/execute_function.py?line=300'>301</a>\u001b[0m         optimization_level\u001b[39m=\u001b[39;49moptimization_level,\n\u001b[0;32m    <a href='file:///d%3A/Firmware/Miniconda/envs/quantum/lib/site-packages/qiskit/execute_function.py?line=301'>302</a>\u001b[0m         backend\u001b[39m=\u001b[39;49mbackend,\n\u001b[0;32m    <a href='file:///d%3A/Firmware/Miniconda/envs/quantum/lib/site-packages/qiskit/execute_function.py?line=302'>303</a>\u001b[0m     )\n\u001b[0;32m    <a href='file:///d%3A/Firmware/Miniconda/envs/quantum/lib/site-packages/qiskit/execute_function.py?line=304'>305</a>\u001b[0m \u001b[39mif\u001b[39;00m schedule_circuit:\n\u001b[0;32m    <a href='file:///d%3A/Firmware/Miniconda/envs/quantum/lib/site-packages/qiskit/execute_function.py?line=305'>306</a>\u001b[0m     experiments \u001b[39m=\u001b[39m schedule(\n\u001b[0;32m    <a href='file:///d%3A/Firmware/Miniconda/envs/quantum/lib/site-packages/qiskit/execute_function.py?line=306'>307</a>\u001b[0m         circuits\u001b[39m=\u001b[39mexperiments,\n\u001b[0;32m    <a href='file:///d%3A/Firmware/Miniconda/envs/quantum/lib/site-packages/qiskit/execute_function.py?line=307'>308</a>\u001b[0m         backend\u001b[39m=\u001b[39mbackend,\n\u001b[1;32m   (...)\u001b[0m\n\u001b[0;32m    <a href='file:///d%3A/Firmware/Miniconda/envs/quantum/lib/site-packages/qiskit/execute_function.py?line=310'>311</a>\u001b[0m         method\u001b[39m=\u001b[39mscheduling_method,\n\u001b[0;32m    <a href='file:///d%3A/Firmware/Miniconda/envs/quantum/lib/site-packages/qiskit/execute_function.py?line=311'>312</a>\u001b[0m     )\n",
      "File \u001b[1;32mD:\\Firmware\\Miniconda\\envs\\quantum\\lib\\site-packages\\qiskit\\compiler\\transpiler.py:335\u001b[0m, in \u001b[0;36mtranspile\u001b[1;34m(circuits, backend, basis_gates, inst_map, coupling_map, backend_properties, initial_layout, layout_method, routing_method, translation_method, scheduling_method, instruction_durations, dt, approximation_degree, timing_constraints, seed_transpiler, optimization_level, pass_manager, callback, output_name, unitary_synthesis_method, unitary_synthesis_plugin_config, target)\u001b[0m\n\u001b[0;32m    <a href='file:///d%3A/Firmware/Miniconda/envs/quantum/lib/site-packages/qiskit/compiler/transpiler.py?line=331'>332</a>\u001b[0m _check_circuits_coupling_map(circuits, transpile_args, backend)\n\u001b[0;32m    <a href='file:///d%3A/Firmware/Miniconda/envs/quantum/lib/site-packages/qiskit/compiler/transpiler.py?line=333'>334</a>\u001b[0m \u001b[39m# Transpile circuits in parallel\u001b[39;00m\n\u001b[1;32m--> <a href='file:///d%3A/Firmware/Miniconda/envs/quantum/lib/site-packages/qiskit/compiler/transpiler.py?line=334'>335</a>\u001b[0m circuits \u001b[39m=\u001b[39m parallel_map(_transpile_circuit, \u001b[39mlist\u001b[39;49m(\u001b[39mzip\u001b[39;49m(circuits, transpile_args)))\n\u001b[0;32m    <a href='file:///d%3A/Firmware/Miniconda/envs/quantum/lib/site-packages/qiskit/compiler/transpiler.py?line=336'>337</a>\u001b[0m end_time \u001b[39m=\u001b[39m time()\n\u001b[0;32m    <a href='file:///d%3A/Firmware/Miniconda/envs/quantum/lib/site-packages/qiskit/compiler/transpiler.py?line=337'>338</a>\u001b[0m _log_transpile_time(start_time, end_time)\n",
      "File \u001b[1;32mD:\\Firmware\\Miniconda\\envs\\quantum\\lib\\site-packages\\qiskit\\tools\\parallel.py:132\u001b[0m, in \u001b[0;36mparallel_map\u001b[1;34m(task, values, task_args, task_kwargs, num_processes)\u001b[0m\n\u001b[0;32m    <a href='file:///d%3A/Firmware/Miniconda/envs/quantum/lib/site-packages/qiskit/tools/parallel.py?line=129'>130</a>\u001b[0m     \u001b[39mreturn\u001b[39;00m []\n\u001b[0;32m    <a href='file:///d%3A/Firmware/Miniconda/envs/quantum/lib/site-packages/qiskit/tools/parallel.py?line=130'>131</a>\u001b[0m \u001b[39mif\u001b[39;00m \u001b[39mlen\u001b[39m(values) \u001b[39m==\u001b[39m \u001b[39m1\u001b[39m:\n\u001b[1;32m--> <a href='file:///d%3A/Firmware/Miniconda/envs/quantum/lib/site-packages/qiskit/tools/parallel.py?line=131'>132</a>\u001b[0m     \u001b[39mreturn\u001b[39;00m [task(values[\u001b[39m0\u001b[39;49m], \u001b[39m*\u001b[39;49mtask_args, \u001b[39m*\u001b[39;49m\u001b[39m*\u001b[39;49mtask_kwargs)]\n\u001b[0;32m    <a href='file:///d%3A/Firmware/Miniconda/envs/quantum/lib/site-packages/qiskit/tools/parallel.py?line=133'>134</a>\u001b[0m Publisher()\u001b[39m.\u001b[39mpublish(\u001b[39m\"\u001b[39m\u001b[39mterra.parallel.start\u001b[39m\u001b[39m\"\u001b[39m, \u001b[39mlen\u001b[39m(values))\n\u001b[0;32m    <a href='file:///d%3A/Firmware/Miniconda/envs/quantum/lib/site-packages/qiskit/tools/parallel.py?line=134'>135</a>\u001b[0m nfinished \u001b[39m=\u001b[39m [\u001b[39m0\u001b[39m]\n",
      "File \u001b[1;32mD:\\Firmware\\Miniconda\\envs\\quantum\\lib\\site-packages\\qiskit\\compiler\\transpiler.py:429\u001b[0m, in \u001b[0;36m_transpile_circuit\u001b[1;34m(circuit_config_tuple)\u001b[0m\n\u001b[0;32m    <a href='file:///d%3A/Firmware/Miniconda/envs/quantum/lib/site-packages/qiskit/compiler/transpiler.py?line=425'>426</a>\u001b[0m \u001b[39melse\u001b[39;00m:\n\u001b[0;32m    <a href='file:///d%3A/Firmware/Miniconda/envs/quantum/lib/site-packages/qiskit/compiler/transpiler.py?line=426'>427</a>\u001b[0m     \u001b[39mraise\u001b[39;00m TranspilerError(\u001b[39m\"\u001b[39m\u001b[39moptimization_level can range from 0 to 3.\u001b[39m\u001b[39m\"\u001b[39m)\n\u001b[1;32m--> <a href='file:///d%3A/Firmware/Miniconda/envs/quantum/lib/site-packages/qiskit/compiler/transpiler.py?line=428'>429</a>\u001b[0m result \u001b[39m=\u001b[39m pass_manager\u001b[39m.\u001b[39;49mrun(\n\u001b[0;32m    <a href='file:///d%3A/Firmware/Miniconda/envs/quantum/lib/site-packages/qiskit/compiler/transpiler.py?line=429'>430</a>\u001b[0m     circuit, callback\u001b[39m=\u001b[39;49mtranspile_config[\u001b[39m\"\u001b[39;49m\u001b[39mcallback\u001b[39;49m\u001b[39m\"\u001b[39;49m], output_name\u001b[39m=\u001b[39;49mtranspile_config[\u001b[39m\"\u001b[39;49m\u001b[39moutput_name\u001b[39;49m\u001b[39m\"\u001b[39;49m]\n\u001b[0;32m    <a href='file:///d%3A/Firmware/Miniconda/envs/quantum/lib/site-packages/qiskit/compiler/transpiler.py?line=430'>431</a>\u001b[0m )\n\u001b[0;32m    <a href='file:///d%3A/Firmware/Miniconda/envs/quantum/lib/site-packages/qiskit/compiler/transpiler.py?line=432'>433</a>\u001b[0m \u001b[39mif\u001b[39;00m transpile_config[\u001b[39m\"\u001b[39m\u001b[39mfaulty_qubits_map\u001b[39m\u001b[39m\"\u001b[39m]:\n\u001b[0;32m    <a href='file:///d%3A/Firmware/Miniconda/envs/quantum/lib/site-packages/qiskit/compiler/transpiler.py?line=433'>434</a>\u001b[0m     \u001b[39mreturn\u001b[39;00m _remap_circuit_faulty_backend(\n\u001b[0;32m    <a href='file:///d%3A/Firmware/Miniconda/envs/quantum/lib/site-packages/qiskit/compiler/transpiler.py?line=434'>435</a>\u001b[0m         result,\n\u001b[0;32m    <a href='file:///d%3A/Firmware/Miniconda/envs/quantum/lib/site-packages/qiskit/compiler/transpiler.py?line=435'>436</a>\u001b[0m         transpile_config[\u001b[39m\"\u001b[39m\u001b[39mbackend_num_qubits\u001b[39m\u001b[39m\"\u001b[39m],\n\u001b[0;32m    <a href='file:///d%3A/Firmware/Miniconda/envs/quantum/lib/site-packages/qiskit/compiler/transpiler.py?line=436'>437</a>\u001b[0m         pass_manager_config\u001b[39m.\u001b[39mbackend_properties,\n\u001b[0;32m    <a href='file:///d%3A/Firmware/Miniconda/envs/quantum/lib/site-packages/qiskit/compiler/transpiler.py?line=437'>438</a>\u001b[0m         transpile_config[\u001b[39m\"\u001b[39m\u001b[39mfaulty_qubits_map\u001b[39m\u001b[39m\"\u001b[39m],\n\u001b[0;32m    <a href='file:///d%3A/Firmware/Miniconda/envs/quantum/lib/site-packages/qiskit/compiler/transpiler.py?line=438'>439</a>\u001b[0m     )\n",
      "File \u001b[1;32mD:\\Firmware\\Miniconda\\envs\\quantum\\lib\\site-packages\\qiskit\\transpiler\\passmanager.py:218\u001b[0m, in \u001b[0;36mPassManager.run\u001b[1;34m(self, circuits, output_name, callback)\u001b[0m\n\u001b[0;32m    <a href='file:///d%3A/Firmware/Miniconda/envs/quantum/lib/site-packages/qiskit/transpiler/passmanager.py?line=215'>216</a>\u001b[0m     \u001b[39mreturn\u001b[39;00m circuits\n\u001b[0;32m    <a href='file:///d%3A/Firmware/Miniconda/envs/quantum/lib/site-packages/qiskit/transpiler/passmanager.py?line=216'>217</a>\u001b[0m \u001b[39mif\u001b[39;00m \u001b[39misinstance\u001b[39m(circuits, QuantumCircuit):\n\u001b[1;32m--> <a href='file:///d%3A/Firmware/Miniconda/envs/quantum/lib/site-packages/qiskit/transpiler/passmanager.py?line=217'>218</a>\u001b[0m     \u001b[39mreturn\u001b[39;00m \u001b[39mself\u001b[39;49m\u001b[39m.\u001b[39;49m_run_single_circuit(circuits, output_name, callback)\n\u001b[0;32m    <a href='file:///d%3A/Firmware/Miniconda/envs/quantum/lib/site-packages/qiskit/transpiler/passmanager.py?line=218'>219</a>\u001b[0m \u001b[39mif\u001b[39;00m \u001b[39mlen\u001b[39m(circuits) \u001b[39m==\u001b[39m \u001b[39m1\u001b[39m:\n\u001b[0;32m    <a href='file:///d%3A/Firmware/Miniconda/envs/quantum/lib/site-packages/qiskit/transpiler/passmanager.py?line=219'>220</a>\u001b[0m     \u001b[39mreturn\u001b[39;00m \u001b[39mself\u001b[39m\u001b[39m.\u001b[39m_run_single_circuit(circuits[\u001b[39m0\u001b[39m], output_name, callback)\n",
      "File \u001b[1;32mD:\\Firmware\\Miniconda\\envs\\quantum\\lib\\site-packages\\qiskit\\transpiler\\passmanager.py:273\u001b[0m, in \u001b[0;36mPassManager._run_single_circuit\u001b[1;34m(self, circuit, output_name, callback)\u001b[0m\n\u001b[0;32m    <a href='file:///d%3A/Firmware/Miniconda/envs/quantum/lib/site-packages/qiskit/transpiler/passmanager.py?line=260'>261</a>\u001b[0m \u001b[39m\"\"\"Run all the passes on a ``circuit``.\u001b[39;00m\n\u001b[0;32m    <a href='file:///d%3A/Firmware/Miniconda/envs/quantum/lib/site-packages/qiskit/transpiler/passmanager.py?line=261'>262</a>\u001b[0m \n\u001b[0;32m    <a href='file:///d%3A/Firmware/Miniconda/envs/quantum/lib/site-packages/qiskit/transpiler/passmanager.py?line=262'>263</a>\u001b[0m \u001b[39mArgs:\u001b[39;00m\n\u001b[1;32m   (...)\u001b[0m\n\u001b[0;32m    <a href='file:///d%3A/Firmware/Miniconda/envs/quantum/lib/site-packages/qiskit/transpiler/passmanager.py?line=269'>270</a>\u001b[0m \u001b[39m    The transformed circuit.\u001b[39;00m\n\u001b[0;32m    <a href='file:///d%3A/Firmware/Miniconda/envs/quantum/lib/site-packages/qiskit/transpiler/passmanager.py?line=270'>271</a>\u001b[0m \u001b[39m\"\"\"\u001b[39;00m\n\u001b[0;32m    <a href='file:///d%3A/Firmware/Miniconda/envs/quantum/lib/site-packages/qiskit/transpiler/passmanager.py?line=271'>272</a>\u001b[0m running_passmanager \u001b[39m=\u001b[39m \u001b[39mself\u001b[39m\u001b[39m.\u001b[39m_create_running_passmanager()\n\u001b[1;32m--> <a href='file:///d%3A/Firmware/Miniconda/envs/quantum/lib/site-packages/qiskit/transpiler/passmanager.py?line=272'>273</a>\u001b[0m result \u001b[39m=\u001b[39m running_passmanager\u001b[39m.\u001b[39;49mrun(circuit, output_name\u001b[39m=\u001b[39;49moutput_name, callback\u001b[39m=\u001b[39;49mcallback)\n\u001b[0;32m    <a href='file:///d%3A/Firmware/Miniconda/envs/quantum/lib/site-packages/qiskit/transpiler/passmanager.py?line=273'>274</a>\u001b[0m \u001b[39mself\u001b[39m\u001b[39m.\u001b[39mproperty_set \u001b[39m=\u001b[39m running_passmanager\u001b[39m.\u001b[39mproperty_set\n\u001b[0;32m    <a href='file:///d%3A/Firmware/Miniconda/envs/quantum/lib/site-packages/qiskit/transpiler/passmanager.py?line=274'>275</a>\u001b[0m \u001b[39mreturn\u001b[39;00m result\n",
      "File \u001b[1;32mD:\\Firmware\\Miniconda\\envs\\quantum\\lib\\site-packages\\qiskit\\transpiler\\runningpassmanager.py:123\u001b[0m, in \u001b[0;36mRunningPassManager.run\u001b[1;34m(***failed resolving arguments***)\u001b[0m\n\u001b[0;32m    <a href='file:///d%3A/Firmware/Miniconda/envs/quantum/lib/site-packages/qiskit/transpiler/runningpassmanager.py?line=120'>121</a>\u001b[0m \u001b[39mfor\u001b[39;00m passset \u001b[39min\u001b[39;00m \u001b[39mself\u001b[39m\u001b[39m.\u001b[39mworking_list:\n\u001b[0;32m    <a href='file:///d%3A/Firmware/Miniconda/envs/quantum/lib/site-packages/qiskit/transpiler/runningpassmanager.py?line=121'>122</a>\u001b[0m     \u001b[39mfor\u001b[39;00m pass_ \u001b[39min\u001b[39;00m passset:\n\u001b[1;32m--> <a href='file:///d%3A/Firmware/Miniconda/envs/quantum/lib/site-packages/qiskit/transpiler/runningpassmanager.py?line=122'>123</a>\u001b[0m         dag \u001b[39m=\u001b[39m \u001b[39mself\u001b[39;49m\u001b[39m.\u001b[39;49m_do_pass(pass_, dag, passset\u001b[39m.\u001b[39;49moptions)\n\u001b[0;32m    <a href='file:///d%3A/Firmware/Miniconda/envs/quantum/lib/site-packages/qiskit/transpiler/runningpassmanager.py?line=124'>125</a>\u001b[0m circuit \u001b[39m=\u001b[39m dag_to_circuit(dag)\n\u001b[0;32m    <a href='file:///d%3A/Firmware/Miniconda/envs/quantum/lib/site-packages/qiskit/transpiler/runningpassmanager.py?line=125'>126</a>\u001b[0m \u001b[39mif\u001b[39;00m output_name:\n",
      "File \u001b[1;32mD:\\Firmware\\Miniconda\\envs\\quantum\\lib\\site-packages\\qiskit\\transpiler\\runningpassmanager.py:154\u001b[0m, in \u001b[0;36mRunningPassManager._do_pass\u001b[1;34m(self, pass_, dag, options)\u001b[0m\n\u001b[0;32m    <a href='file:///d%3A/Firmware/Miniconda/envs/quantum/lib/site-packages/qiskit/transpiler/runningpassmanager.py?line=151'>152</a>\u001b[0m \u001b[39m# Run the pass itself, if not already run\u001b[39;00m\n\u001b[0;32m    <a href='file:///d%3A/Firmware/Miniconda/envs/quantum/lib/site-packages/qiskit/transpiler/runningpassmanager.py?line=152'>153</a>\u001b[0m \u001b[39mif\u001b[39;00m pass_ \u001b[39mnot\u001b[39;00m \u001b[39min\u001b[39;00m \u001b[39mself\u001b[39m\u001b[39m.\u001b[39mvalid_passes:\n\u001b[1;32m--> <a href='file:///d%3A/Firmware/Miniconda/envs/quantum/lib/site-packages/qiskit/transpiler/runningpassmanager.py?line=153'>154</a>\u001b[0m     dag \u001b[39m=\u001b[39m \u001b[39mself\u001b[39;49m\u001b[39m.\u001b[39;49m_run_this_pass(pass_, dag)\n\u001b[0;32m    <a href='file:///d%3A/Firmware/Miniconda/envs/quantum/lib/site-packages/qiskit/transpiler/runningpassmanager.py?line=155'>156</a>\u001b[0m     \u001b[39m# update the valid_passes property\u001b[39;00m\n\u001b[0;32m    <a href='file:///d%3A/Firmware/Miniconda/envs/quantum/lib/site-packages/qiskit/transpiler/runningpassmanager.py?line=156'>157</a>\u001b[0m     \u001b[39mself\u001b[39m\u001b[39m.\u001b[39m_update_valid_passes(pass_)\n",
      "File \u001b[1;32mD:\\Firmware\\Miniconda\\envs\\quantum\\lib\\site-packages\\qiskit\\transpiler\\runningpassmanager.py:166\u001b[0m, in \u001b[0;36mRunningPassManager._run_this_pass\u001b[1;34m(self, pass_, dag)\u001b[0m\n\u001b[0;32m    <a href='file:///d%3A/Firmware/Miniconda/envs/quantum/lib/site-packages/qiskit/transpiler/runningpassmanager.py?line=162'>163</a>\u001b[0m \u001b[39mif\u001b[39;00m pass_\u001b[39m.\u001b[39mis_transformation_pass:\n\u001b[0;32m    <a href='file:///d%3A/Firmware/Miniconda/envs/quantum/lib/site-packages/qiskit/transpiler/runningpassmanager.py?line=163'>164</a>\u001b[0m     \u001b[39m# Measure time if we have a callback or logging set\u001b[39;00m\n\u001b[0;32m    <a href='file:///d%3A/Firmware/Miniconda/envs/quantum/lib/site-packages/qiskit/transpiler/runningpassmanager.py?line=164'>165</a>\u001b[0m     start_time \u001b[39m=\u001b[39m time()\n\u001b[1;32m--> <a href='file:///d%3A/Firmware/Miniconda/envs/quantum/lib/site-packages/qiskit/transpiler/runningpassmanager.py?line=165'>166</a>\u001b[0m     new_dag \u001b[39m=\u001b[39m pass_\u001b[39m.\u001b[39;49mrun(dag)\n\u001b[0;32m    <a href='file:///d%3A/Firmware/Miniconda/envs/quantum/lib/site-packages/qiskit/transpiler/runningpassmanager.py?line=166'>167</a>\u001b[0m     end_time \u001b[39m=\u001b[39m time()\n\u001b[0;32m    <a href='file:///d%3A/Firmware/Miniconda/envs/quantum/lib/site-packages/qiskit/transpiler/runningpassmanager.py?line=167'>168</a>\u001b[0m     run_time \u001b[39m=\u001b[39m end_time \u001b[39m-\u001b[39m start_time\n",
      "File \u001b[1;32mD:\\Firmware\\Miniconda\\envs\\quantum\\lib\\site-packages\\qiskit\\transpiler\\passes\\basis\\unroll_custom_definitions.py:95\u001b[0m, in \u001b[0;36mUnrollCustomDefinitions.run\u001b[1;34m(self, dag)\u001b[0m\n\u001b[0;32m     <a href='file:///d%3A/Firmware/Miniconda/envs/quantum/lib/site-packages/qiskit/transpiler/passes/basis/unroll_custom_definitions.py?line=90'>91</a>\u001b[0m     decomposition \u001b[39m=\u001b[39m circuit_to_dag(node\u001b[39m.\u001b[39mop\u001b[39m.\u001b[39mdefinition)\n\u001b[0;32m     <a href='file:///d%3A/Firmware/Miniconda/envs/quantum/lib/site-packages/qiskit/transpiler/passes/basis/unroll_custom_definitions.py?line=91'>92</a>\u001b[0m     unrolled_dag \u001b[39m=\u001b[39m UnrollCustomDefinitions(\u001b[39mself\u001b[39m\u001b[39m.\u001b[39m_equiv_lib, \u001b[39mself\u001b[39m\u001b[39m.\u001b[39m_basis_gates)\u001b[39m.\u001b[39mrun(\n\u001b[0;32m     <a href='file:///d%3A/Firmware/Miniconda/envs/quantum/lib/site-packages/qiskit/transpiler/passes/basis/unroll_custom_definitions.py?line=92'>93</a>\u001b[0m         decomposition\n\u001b[0;32m     <a href='file:///d%3A/Firmware/Miniconda/envs/quantum/lib/site-packages/qiskit/transpiler/passes/basis/unroll_custom_definitions.py?line=93'>94</a>\u001b[0m     )\n\u001b[1;32m---> <a href='file:///d%3A/Firmware/Miniconda/envs/quantum/lib/site-packages/qiskit/transpiler/passes/basis/unroll_custom_definitions.py?line=94'>95</a>\u001b[0m     dag\u001b[39m.\u001b[39;49msubstitute_node_with_dag(node, unrolled_dag)\n\u001b[0;32m     <a href='file:///d%3A/Firmware/Miniconda/envs/quantum/lib/site-packages/qiskit/transpiler/passes/basis/unroll_custom_definitions.py?line=96'>97</a>\u001b[0m \u001b[39mreturn\u001b[39;00m dag\n",
      "File \u001b[1;32mD:\\Firmware\\Miniconda\\envs\\quantum\\lib\\site-packages\\qiskit\\dagcircuit\\dagcircuit.py:1151\u001b[0m, in \u001b[0;36mDAGCircuit.substitute_node_with_dag\u001b[1;34m(self, node, input_dag, wires)\u001b[0m\n\u001b[0;32m   <a href='file:///d%3A/Firmware/Miniconda/envs/quantum/lib/site-packages/qiskit/dagcircuit/dagcircuit.py?line=1148'>1149</a>\u001b[0m     wires \u001b[39m=\u001b[39m in_dag\u001b[39m.\u001b[39mwires\n\u001b[0;32m   <a href='file:///d%3A/Firmware/Miniconda/envs/quantum/lib/site-packages/qiskit/dagcircuit/dagcircuit.py?line=1149'>1150</a>\u001b[0m wire_set \u001b[39m=\u001b[39m \u001b[39mset\u001b[39m(wires)\n\u001b[1;32m-> <a href='file:///d%3A/Firmware/Miniconda/envs/quantum/lib/site-packages/qiskit/dagcircuit/dagcircuit.py?line=1150'>1151</a>\u001b[0m \u001b[39mself\u001b[39;49m\u001b[39m.\u001b[39;49m_check_wires_list(wires, node)\n\u001b[0;32m   <a href='file:///d%3A/Firmware/Miniconda/envs/quantum/lib/site-packages/qiskit/dagcircuit/dagcircuit.py?line=1152'>1153</a>\u001b[0m \u001b[39m# Create a proxy wire_map to identify fragments and duplicates\u001b[39;00m\n\u001b[0;32m   <a href='file:///d%3A/Firmware/Miniconda/envs/quantum/lib/site-packages/qiskit/dagcircuit/dagcircuit.py?line=1153'>1154</a>\u001b[0m \u001b[39m# and determine what registers need to be added to self\u001b[39;00m\n\u001b[0;32m   <a href='file:///d%3A/Firmware/Miniconda/envs/quantum/lib/site-packages/qiskit/dagcircuit/dagcircuit.py?line=1154'>1155</a>\u001b[0m add_qregs \u001b[39m=\u001b[39m \u001b[39mself\u001b[39m\u001b[39m.\u001b[39m_check_edgemap_registers(wires, in_dag\u001b[39m.\u001b[39mqregs\u001b[39m.\u001b[39mvalues())\n",
      "File \u001b[1;32mD:\\Firmware\\Miniconda\\envs\\quantum\\lib\\site-packages\\qiskit\\dagcircuit\\dagcircuit.py:942\u001b[0m, in \u001b[0;36mDAGCircuit._check_wires_list\u001b[1;34m(self, wires, node)\u001b[0m\n\u001b[0;32m    <a href='file:///d%3A/Firmware/Miniconda/envs/quantum/lib/site-packages/qiskit/dagcircuit/dagcircuit.py?line=938'>939</a>\u001b[0m     wire_tot \u001b[39m+\u001b[39m\u001b[39m=\u001b[39m node\u001b[39m.\u001b[39mop\u001b[39m.\u001b[39mcondition[\u001b[39m0\u001b[39m]\u001b[39m.\u001b[39msize\n\u001b[0;32m    <a href='file:///d%3A/Firmware/Miniconda/envs/quantum/lib/site-packages/qiskit/dagcircuit/dagcircuit.py?line=940'>941</a>\u001b[0m \u001b[39mif\u001b[39;00m \u001b[39mlen\u001b[39m(wires) \u001b[39m!=\u001b[39m wire_tot:\n\u001b[1;32m--> <a href='file:///d%3A/Firmware/Miniconda/envs/quantum/lib/site-packages/qiskit/dagcircuit/dagcircuit.py?line=941'>942</a>\u001b[0m     \u001b[39mraise\u001b[39;00m DAGCircuitError(\u001b[39m\"\u001b[39m\u001b[39mexpected \u001b[39m\u001b[39m%d\u001b[39;00m\u001b[39m wires, got \u001b[39m\u001b[39m%d\u001b[39;00m\u001b[39m\"\u001b[39m \u001b[39m%\u001b[39m (wire_tot, \u001b[39mlen\u001b[39m(wires)))\n",
      "\u001b[1;31mDAGCircuitError\u001b[0m: 'expected 2 wires, got 4'"
     ]
    }
   ],
   "source": [
    "bell= QuantumCircuit(2,2)\n",
    "bell.h(0)\n",
    "bell.cx(0,1)\n",
    "bell.append(tran_ham, [0,1])\n",
    "bell.cx(0,1)\n",
    "bell.h(0)\n",
    "display(bell.draw())\n",
    "bell.measure_all()\n",
    "backend = Aer.get_backend('qasm_simulator')\n",
    "job = execute(bell, backend, shots = 1024)\n",
    "result_sim = job_sim.result()\n",
    "counts = result_sim.get_counts(bell)\n",
    "print(counts)\n",
    "from qiskit.visualization import plot_histogram\n",
    "plot_histogram(counts)\n"
   ]
  },
  {
   "cell_type": "code",
   "execution_count": null,
   "id": "3ca70811-b611-46f0-a8a9-bce9b13f887a",
   "metadata": {},
   "outputs": [],
   "source": []
  }
 ],
 "metadata": {
  "kernelspec": {
   "display_name": "Qiskit v0.34.2 (ipykernel)",
   "language": "python",
   "name": "python3"
  },
  "language_info": {
   "codemirror_mode": {
    "name": "ipython",
    "version": 3
   },
   "file_extension": ".py",
   "mimetype": "text/x-python",
   "name": "python",
   "nbconvert_exporter": "python",
   "pygments_lexer": "ipython3",
   "version": "3.8.13"
  },
  "widgets": {
   "application/vnd.jupyter.widget-state+json": {
    "state": {},
    "version_major": 2,
    "version_minor": 0
   }
  }
 },
 "nbformat": 4,
 "nbformat_minor": 5
}
